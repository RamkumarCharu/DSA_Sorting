{
 "cells": [
  {
   "cell_type": "code",
   "execution_count": 12,
   "metadata": {},
   "outputs": [
    {
     "name": "stdout",
     "output_type": "stream",
     "text": [
      "{1: 1, 2: 3, 3: 4, 4: 5}\n",
      "The element appearing the maximum number of times is 4, and it appears 5 times.\n"
     ]
    }
   ],
   "source": [
    "# Problem 1.Given an array of n numbers, give an algorithm which gives the element appearing maximum\n",
    "# number of times?\n",
    "def find_max_occurrence(arr):\n",
    "    frequency_dict = {}\n",
    "\n",
    "    # Iterate through the array to count the frequency of each element\n",
    "    for num in arr:\n",
    "        if num in frequency_dict:\n",
    "            frequency_dict[num] += 1\n",
    "        else:\n",
    "            frequency_dict[num] = 1\n",
    "    print(frequency_dict)\n",
    "    # Find the element with the maximum frequency\n",
    "    max_occurrence_element = max(frequency_dict, key=frequency_dict.get)\n",
    "    max_occurrence_count = frequency_dict[max_occurrence_element]\n",
    "\n",
    "    return max_occurrence_element, max_occurrence_count\n",
    "\n",
    "# Example usage:\n",
    "arr = [1, 2, 3, 4, 2, 2, 3, 3, 3, 4, 4, 4, 4]\n",
    "element, count = find_max_occurrence(arr)\n",
    "print(f\"The element appearing the maximum number of times is {element}, and it appears {count} times.\")\n"
   ]
  },
  {
   "cell_type": "code",
   "execution_count": 13,
   "metadata": {},
   "outputs": [
    {
     "name": "stdout",
     "output_type": "stream",
     "text": [
      "the missing number is : 5\n"
     ]
    }
   ],
   "source": [
    "# Problem 2 : We are given a list of n-1 integers and these integers are in the range of 1 to n . There are no\n",
    "# duplicates in the list. One of the integers is missing in the list. Give an algorithm to find that element Ex:\n",
    "# [1,2,4,6,3,7,8] 5 is the missing num.\n",
    "\n",
    "def bubble_sort(arr):\n",
    "    for i in range(len(arr)-1,0,-1):\n",
    "        for j in range(i):\n",
    "            if (arr[j]>arr[j+1]):\n",
    "                arr[j],arr[j+1] = arr[j+1],arr[j]\n",
    "    return arr\n",
    "def find_missing(arr):\n",
    "    bubble_sort(arr)\n",
    "    for i in range(0,len(arr)-1):\n",
    "        if arr[i]+1 != arr[i+1]:\n",
    "            return arr[i]+1\n",
    "    \n",
    "print(f'the missing number is : {find_missing([1,2,4,6,3,7,8])}')\n"
   ]
  },
  {
   "cell_type": "code",
   "execution_count": 14,
   "metadata": {},
   "outputs": [
    {
     "name": "stdout",
     "output_type": "stream",
     "text": [
      "[1, 1, 2, 2, 2, 2, 3, 3, 3, 3, 3]\n",
      "the odd element is 3 and ocurred 5 times\n"
     ]
    }
   ],
   "source": [
    "# Problem 3 : Given an array of n positive numbers. All numbers occurs even number of times except 1 which\n",
    "# occurs odd number of times. Find that number in O(n) time and O(1) space. Ex: [1,2,3,2,3,1,3]. 3 is repeats odd\n",
    "# times.\n",
    "\n",
    "def bubble_sort(arr):\n",
    "    for i in range(len(arr)-1,0,-1):\n",
    "        for j in range(i):\n",
    "            if (arr[j]>arr[j+1]):\n",
    "                arr[j],arr[j+1] = arr[j+1],arr[j]\n",
    "    print(arr)\n",
    "    return arr\n",
    "\n",
    "def find_odd_occurrences1(arr):\n",
    "    bubble_sort(arr)\n",
    "    count = 1\n",
    "    n = len(arr)\n",
    "    for i in range(1,len(arr)):\n",
    "        if arr[(i-1+n)%n] == arr[i]:\n",
    "        #if arr[i-1] == arr[i]:\n",
    "            count += 1\n",
    "            if i==n-1 and count%2 !=0 :\n",
    "                return arr[i],count\n",
    "        elif count % 2 != 0:\n",
    "                return arr[i-1],count\n",
    "        else: count=1\n",
    "\n",
    "def find_odd_occurrence(arr):\n",
    "    result = 0\n",
    "    \n",
    "    # XOR all elements in the array\n",
    "    for num in arr:\n",
    "        result ^= num\n",
    "    return result\n",
    "\n",
    "element,count = find_odd_occurrences1([1,1,3,2,2,3,3,3,3,2,2])\n",
    "print(f'the odd element is {element} and ocurred {count} times')"
   ]
  },
  {
   "cell_type": "code",
   "execution_count": 15,
   "metadata": {},
   "outputs": [],
   "source": [
    "# Problem 4 : Given an array of n elements. Find two elements in the array such that their sum is equal to given\n",
    "# element K.\n",
    "\n",
    "\n",
    "\n",
    "\n"
   ]
  },
  {
   "cell_type": "code",
   "execution_count": 16,
   "metadata": {},
   "outputs": [
    {
     "name": "stdout",
     "output_type": "stream",
     "text": [
      "the two numbers are (-8, 1)\n"
     ]
    }
   ],
   "source": [
    "# Problem 5 : Given an array of both positive and negative numbers, find two numbers such that their sum is\n",
    "# closest to 0. Ex: [ 1 ,60 ,-10, 70, -80,85]. Ans : -80,85.\n",
    "def bubble_sort(arr):\n",
    "    for i in range(len(arr)-1,0,-1):\n",
    "        for j in range(i):\n",
    "            if (arr[j]>arr[j+1]):\n",
    "                arr[j],arr[j+1] = arr[j+1],arr[j]\n",
    "    return arr\n",
    "\n",
    "def closest_sum_to_zero(arr):\n",
    "    # Sort the array\n",
    "    bubble_sort(arr)\n",
    "\n",
    "    left, right = 0, len(arr) - 1\n",
    "\n",
    "    closest_sum = float('inf')\n",
    "    closest_pair = None\n",
    "\n",
    "    while left < right:\n",
    "        current_sum = arr[left] + arr[right]\n",
    "        if abs(current_sum) < closest_sum:\n",
    "            closest_sum = abs(current_sum)\n",
    "            closest_pair = (arr[left], arr[right])\n",
    "        # Move pointers based on the current_sum\n",
    "        if current_sum < 0:\n",
    "            left += 1\n",
    "        elif current_sum > 0:\n",
    "            right -= 1\n",
    "        else:\n",
    "            return closest_pair,current_sum  # If the sum is zero, we have found the closest pair\n",
    "\n",
    "    return closest_pair,current_sum\n",
    "\n",
    "\n",
    "closest_pair, current_sum = closest_sum_to_zero([ 1 ,60 ,-10, -8,70,85,86,82,88])\n",
    "print(f'the two numbers are {closest_pair}')"
   ]
  },
  {
   "cell_type": "code",
   "execution_count": 17,
   "metadata": {},
   "outputs": [
    {
     "name": "stdout",
     "output_type": "stream",
     "text": [
      "[4, 5, 6, 7, 8]\n",
      "current sum is : 17\n",
      "current sum is : 16\n",
      "sum matched for [[4, 5, 7]]\n"
     ]
    }
   ],
   "source": [
    "# Problem 6 : Given an array of n elements . Find three elements such that their sum is equal to the given\n",
    "# number.\n",
    "\n",
    "def find_sum_of_three_elements(arr,target_sum):\n",
    "    bubble_sort(arr)\n",
    "    print(arr)\n",
    "    n = len(arr)\n",
    "\n",
    "    for i in range(n-2):\n",
    "        left = i+1\n",
    "        right = n-1\n",
    "        while left<right:\n",
    "            curr_sum = arr[i] + arr[left] + arr[right]\n",
    "            print(f'current sum is : {curr_sum}')\n",
    "            if curr_sum == target_sum:\n",
    "                return [[arr[i] , arr[left] , arr[right]]]\n",
    "            elif curr_sum  < target_sum:\n",
    "                left += 1\n",
    "            else:\n",
    "                right -= 1\n",
    "    return 0\n",
    "\n",
    "elements = find_sum_of_three_elements([8,4,5,6,7],16)\n",
    "print(f'sum matched for {elements}')"
   ]
  },
  {
   "cell_type": "code",
   "execution_count": 18,
   "metadata": {},
   "outputs": [
    {
     "name": "stdout",
     "output_type": "stream",
     "text": [
      "[7, 8, 24, 25, 30]\n",
      "sum matched for 0\n",
      "[7, 8, 9, 24, 30, 40, 41]\n",
      "sum matched for 0\n",
      "[7, 8, 9, 15, 16, 17, 24, 30]\n",
      "sum matched for 0\n"
     ]
    }
   ],
   "source": [
    "# Problem 7 : Given an array of n elements . Find three elements i, j, k in the array such that\n",
    "# i * i + j * j = k*k.       ### NOT WORKING YET####\n",
    "def find_sum_elements(arr):\n",
    "    bubble_sort(arr)\n",
    "    print(arr)\n",
    "    n = len(arr)\n",
    "\n",
    "    for i in range(n-2):\n",
    "        left = i+1\n",
    "        right = n-1\n",
    "        while left<right:\n",
    "            if (arr[i] * arr[i] + arr[right] * arr[right] == arr[right] * arr[right]):\n",
    "                return (arr[i],arr[left],arr[right])\n",
    "            else:\n",
    "                left  += 1\n",
    "                right -= 1\n",
    "    return 0\n",
    "\n",
    "print(f'sum matched for {find_sum_elements([8,7,24,25,30])}')\n",
    "print(f'sum matched for {find_sum_elements([8,7,24,9,30,40,41])}')\n",
    "print(f'sum matched for {find_sum_elements([8,7,9,24,16,17,30,15])}')"
   ]
  },
  {
   "cell_type": "code",
   "execution_count": 19,
   "metadata": {},
   "outputs": [
    {
     "name": "stdout",
     "output_type": "stream",
     "text": [
      "[1, 1, 1, 1, 1, 2, 3, 3, 4]\n",
      "1\n"
     ]
    }
   ],
   "source": [
    "# Problem 8 : An element is a majority if it appears more than n/2 times. Give an algorithm takes an array of n\n",
    "# element as argument and identifies a majority (if it exists).\n",
    "\n",
    "def find_nby2_occurrence1(arr):\n",
    "    n = len(arr)\n",
    "    bubble_sort(arr)\n",
    "    print(arr)\n",
    "    count = 1\n",
    "    for i in range (1,n-1):\n",
    "        if arr[i] == arr[i-1]:\n",
    "            count += 1\n",
    "            if count >int(n/2):\n",
    "                return arr[i]\n",
    "        else :count = 1\n",
    "\n",
    "def find_nby2_occurrence(arr):\n",
    "    frequency_dict = {}\n",
    "    n = len(arr)\n",
    "    # Iterate through the array to count the frequency of each element\n",
    "    for num in arr:\n",
    "        if num in frequency_dict:\n",
    "            frequency_dict[num] += 1\n",
    "        else:\n",
    "            frequency_dict[num] = 1\n",
    "        if frequency_dict[num]>int(n/2):\n",
    "            return num\n",
    "    return 0\n",
    "print(find_nby2_occurrence1([1,2,3,4,1,1,1,1,3]))\n"
   ]
  },
  {
   "cell_type": "code",
   "execution_count": 22,
   "metadata": {},
   "outputs": [
    {
     "name": "stdout",
     "output_type": "stream",
     "text": [
      "0 [1, 1, 1, 0, 0]\n",
      "1 [1, 1, 0, 0, 0]\n",
      "2 [1, 0, 0, 0, 0]\n",
      "3 [1, 1, 1, 1, 0]\n",
      "4 [1, 1, 1, 1, 1]\n",
      "The row with the maximum number of 0's is row 2\n"
     ]
    }
   ],
   "source": [
    "# Problem 9 : Given n × n matrix, and in each row all 1’s are followed by 0’s. Find the row with the maximum\n",
    "# number of 0’s.\n",
    "\n",
    "def find_row_with_max_zeros(matrix):\n",
    "    max_zeros_row = -1\n",
    "    max_zeros_count = -1\n",
    "\n",
    "    for i, row in enumerate(matrix):\n",
    "        # Count the number of zeros in the current row\n",
    "        zeros_count = row.count(0)\n",
    "\n",
    "        # Update max_zeros_row and max_zeros_count if the current row has more zeros\n",
    "        if zeros_count > max_zeros_count:\n",
    "            max_zeros_row = i\n",
    "            max_zeros_count = zeros_count\n",
    "\n",
    "    return max_zeros_row\n",
    "\n",
    "# Example usage:\n",
    "matrix = [\n",
    "    [1, 1, 1, 0, 0],\n",
    "    [1, 1, 0, 0, 0],\n",
    "    [1, 0, 0, 0, 0],\n",
    "    [1, 1, 1, 1, 0],\n",
    "    [1, 1, 1, 1, 1]\n",
    "]\n",
    "for i, row in enumerate(matrix):\n",
    "    print(i,row)    \n",
    "result = find_row_with_max_zeros(matrix)\n",
    "\n",
    "if result is not None:\n",
    "    print(f\"The row with the maximum number of 0's is row {result}\")\n",
    "else:\n",
    "    print(\"The matrix is empty.\")\n"
   ]
  },
  {
   "cell_type": "code",
   "execution_count": 31,
   "metadata": {},
   "outputs": [
    {
     "name": "stdout",
     "output_type": "stream",
     "text": [
      "[0, 1, 1, 0, 1, 2, 1, 2, 0, 0, 0, 1]\n",
      "[0, 0, 0, 0, 0, 1, 1, 1, 1, 1, 2, 2]\n"
     ]
    }
   ],
   "source": [
    "# Problem 10 : Sort an array of 0’s, 1’s and 2’s [or R’s, G’s and B’s]: Given an array A[] consisting of 0’s, 1’s and\n",
    "# 2’s, give an algorithm for sorting A[].The algorithm should put all 0’s first, then all 1’s and finally all 2’s at the\n",
    "# end. Example Input = {0,1,1,0,1,2,1,2,0,0,0,1}, Output = {0,0,0,0,0,1,1,1,1,1,2,2}\n",
    "\n",
    "\n",
    "def sort_0_1_2(nums):\n",
    "    low, mid, high = 0, 0, len(nums) - 1\n",
    "\n",
    "    while mid <= high:\n",
    "        #print(low,mid,high,arr) \n",
    "        if nums[mid] == 0:\n",
    "            nums[low], nums[mid] = nums[mid], nums[low]\n",
    "            low += 1\n",
    "            mid += 1\n",
    "        elif nums[mid] == 1:\n",
    "            mid += 1\n",
    "        else:\n",
    "            nums[mid], nums[high] = nums[high], nums[mid]\n",
    "            high -= 1\n",
    "\n",
    "arr = [0,1,1,0,1,2,1,2,0,0,0,1]\n",
    "#bubble_sort(arr)   # thi will also give the same result. \n",
    "print(arr)\n",
    "sort_0_1_2(arr)\n",
    "print(arr)\n"
   ]
  }
 ],
 "metadata": {
  "kernelspec": {
   "display_name": "mycondaenv",
   "language": "python",
   "name": "python3"
  },
  "language_info": {
   "codemirror_mode": {
    "name": "ipython",
    "version": 3
   },
   "file_extension": ".py",
   "mimetype": "text/x-python",
   "name": "python",
   "nbconvert_exporter": "python",
   "pygments_lexer": "ipython3",
   "version": "3.10.12"
  },
  "orig_nbformat": 4
 },
 "nbformat": 4,
 "nbformat_minor": 2
}
